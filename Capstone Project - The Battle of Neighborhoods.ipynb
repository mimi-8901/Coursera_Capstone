{
    "cells": [
        {
            "cell_type": "markdown",
            "metadata": {
                "collapsed": true
            },
            "source": "<h1>Capstone Project - The Battle of Neighborhoods</h1>"
        },
        {
            "cell_type": "markdown",
            "metadata": {},
            "source": "<h2>Business Problem</h2>"
        },
        {
            "cell_type": "markdown",
            "metadata": {},
            "source": "<h3>Description</h3>"
        },
        {
            "cell_type": "markdown",
            "metadata": {},
            "source": "We are a consulting company that supports new restaurants in the state of New York. One of our clients has come to us for advice because they would like to open a new mexican restaurant in New York next spring 2021. They are looking for the best location to open \"Fastastaco\" a mexican restaurant focused to offer the authentic taste of Mexico in a simple format. They have three main dishes: tacos, burritos and quesadillas and you can choose different fillings. Ideal to order to go or to have a nice lunch. The price range is based somewhere in the middle, nothing too fancy but neither too cheap. \n\nOur client is looking to rent a place in a well located neighborhood and in a street with good affluence of people, but taking into consideration an affordable rent price, competition and income of the neighborhood.\n\nOur goal as consulting company is to provide our client a few options to choose the location for his new restaurant based on our research and taking into consideration the conditions of our client."
        },
        {
            "cell_type": "markdown",
            "metadata": {},
            "source": "<h3>Data sources</h3>"
        },
        {
            "cell_type": "markdown",
            "metadata": {},
            "source": "We will use diverse data sources to solve this problem\n\nFoursquare API: Identify the number mexican restaurants in New York, try to find count of mexican restaurants per neighborhood, identify competition. We would also try to identify the location of the best rated restaurants.\n\nPedestrian count: In order to give us an idea of the pedestrian volume of certain streets, we will take the data for NYC on pedestrian count for the last 5 years during May in the main comercial corridors. https://www1.nyc.gov/html/dot/html/about/datafeeds.shtml#Pedestrians\n\nHoushold income per Neighborhood: We will take into consideration the average household income per neighborhood in order to search for findings to solve this business problem. We will later evaluate if this is useful to make a decision. https://ny.curbed.com/2017/8/4/16099252/new-york-neighborhood-affordability\n\nAverage Retail rent per neighborhood: We will take into consideration neighborhoods based on a middle standard price. https://comptroller.nyc.gov/reports/retail-vacancy-in-new-york-city/#_ABSTRACT_RENDERER_ID_13\n\n\n\n\n"
        },
        {
            "cell_type": "code",
            "execution_count": null,
            "metadata": {},
            "outputs": [],
            "source": ""
        }
    ],
    "metadata": {
        "kernelspec": {
            "display_name": "Python 3.6",
            "language": "python",
            "name": "python3"
        },
        "language_info": {
            "codemirror_mode": {
                "name": "ipython",
                "version": 3
            },
            "file_extension": ".py",
            "mimetype": "text/x-python",
            "name": "python",
            "nbconvert_exporter": "python",
            "pygments_lexer": "ipython3",
            "version": "3.6.9"
        }
    },
    "nbformat": 4,
    "nbformat_minor": 1
}